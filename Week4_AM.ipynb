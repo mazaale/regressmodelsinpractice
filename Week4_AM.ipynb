{
 "cells": [
  {
   "cell_type": "code",
   "execution_count": 1,
   "metadata": {},
   "outputs": [],
   "source": [
    "import numpy\n",
    "import pandas as pd\n",
    "import statsmodels.api as sm\n",
    "import seaborn\n",
    "import statsmodels.formula.api as smf "
   ]
  },
  {
   "cell_type": "code",
   "execution_count": 2,
   "metadata": {},
   "outputs": [
    {
     "name": "stderr",
     "output_type": "stream",
     "text": [
      "C:\\Users\\arsen\\anaconda3\\lib\\site-packages\\IPython\\core\\interactiveshell.py:3165: DtypeWarning: Columns (76) have mixed types.Specify dtype option on import or set low_memory=False.\n",
      "  has_raised = await self.run_ast_nodes(code_ast.body, cell_name,\n"
     ]
    }
   ],
   "source": [
    "data = pd.read_csv('data.csv')"
   ]
  },
  {
   "cell_type": "code",
   "execution_count": 3,
   "metadata": {},
   "outputs": [],
   "source": [
    "data['S10Q1A50'] = pd.to_numeric(data['S10Q1A50'], errors='coerce') #  VERY FEW THINGS THAT GIVE YOU PLEASURE\n",
    "data = data[data['S10Q1A50'] != 9]\n",
    "data['S10Q1A50'] = data['S10Q1A50'] - 1 # made to 1 and 0\n",
    "data['S10Q1A50'] = 1 - data['S10Q1A50'] #centered\n",
    "\n",
    "data['S2AQ8A'] = pd.to_numeric(data['S2AQ8A'], errors='coerce') #  HOW OFTEN DRANK ANY ALCOHOL IN LAST 12 MONTHS\n",
    "data = data[data['S2AQ8A'] != 99] #deleting unknown\n",
    "data['S2AQ8A'] = data['S2AQ8A'] - 1 #centered\n",
    "\n",
    "data['S3BD5Q2E'] = pd.to_numeric(data['S3BD5Q2E'], errors='coerce') #  HOW OFTEN USED CANNABIS WHEN USING THE MOST\n",
    "data = data[data['S3BD5Q2E'] != 99] #deleting unknown\n",
    "data['S3BD5Q2E'] = data['S3BD5Q2E'] - 1 #centered\n",
    "\n"
   ]
  },
  {
   "cell_type": "code",
   "execution_count": 4,
   "metadata": {},
   "outputs": [
    {
     "name": "stdout",
     "output_type": "stream",
     "text": [
      "Optimization terminated successfully.\n",
      "         Current function value: 0.268997\n",
      "         Iterations 7\n",
      "                           Logit Regression Results                           \n",
      "==============================================================================\n",
      "Dep. Variable:               S10Q1A50   No. Observations:                25864\n",
      "Model:                          Logit   Df Residuals:                    25854\n",
      "Method:                           MLE   Df Model:                            9\n",
      "Date:                Wed, 23 Mar 2022   Pseudo R-squ.:                0.003297\n",
      "Time:                        14:04:29   Log-Likelihood:                -6957.3\n",
      "converged:                       True   LL-Null:                       -6980.4\n",
      "Covariance Type:            nonrobust   LLR p-value:                 5.948e-07\n",
      "====================================================================================\n",
      "                       coef    std err          z      P>|z|      [0.025      0.975]\n",
      "------------------------------------------------------------------------------------\n",
      "Intercept           -2.2995      0.082    -27.902      0.000      -2.461      -2.138\n",
      "C(S2AQ8A)[T.1.0]    -0.1752      0.137     -1.276      0.202      -0.444       0.094\n",
      "C(S2AQ8A)[T.2.0]    -0.2494      0.113     -2.214      0.027      -0.470      -0.029\n",
      "C(S2AQ8A)[T.3.0]    -0.3526      0.112     -3.144      0.002      -0.572      -0.133\n",
      "C(S2AQ8A)[T.4.0]    -0.4504      0.111     -4.041      0.000      -0.669      -0.232\n",
      "C(S2AQ8A)[T.5.0]    -0.2405      0.105     -2.287      0.022      -0.447      -0.034\n",
      "C(S2AQ8A)[T.6.0]    -0.2324      0.112     -2.078      0.038      -0.452      -0.013\n",
      "C(S2AQ8A)[T.7.0]    -0.3173      0.125     -2.530      0.011      -0.563      -0.071\n",
      "C(S2AQ8A)[T.8.0]    -0.0639      0.104     -0.613      0.540      -0.268       0.140\n",
      "C(S2AQ8A)[T.9.0]     0.0465      0.100      0.463      0.643      -0.150       0.243\n",
      "====================================================================================\n",
      "Optimization terminated successfully.\n",
      "         Current function value: 0.284442\n",
      "         Iterations 7\n",
      "                           Logit Regression Results                           \n",
      "==============================================================================\n",
      "Dep. Variable:               S10Q1A50   No. Observations:                 6721\n",
      "Model:                          Logit   Df Residuals:                     6702\n",
      "Method:                           MLE   Df Model:                           18\n",
      "Date:                Wed, 23 Mar 2022   Pseudo R-squ.:                 0.03558\n",
      "Time:                        14:04:29   Log-Likelihood:                -1911.7\n",
      "converged:                       True   LL-Null:                       -1982.3\n",
      "Covariance Type:            nonrobust   LLR p-value:                 3.988e-21\n",
      "======================================================================================\n",
      "                         coef    std err          z      P>|z|      [0.025      0.975]\n",
      "--------------------------------------------------------------------------------------\n",
      "Intercept             -1.4498      0.150     -9.663      0.000      -1.744      -1.156\n",
      "C(S2AQ8A)[T.1.0]      -0.2687      0.222     -1.210      0.226      -0.704       0.167\n",
      "C(S2AQ8A)[T.2.0]      -0.2027      0.182     -1.111      0.267      -0.560       0.155\n",
      "C(S2AQ8A)[T.3.0]      -0.5906      0.197     -3.001      0.003      -0.976      -0.205\n",
      "C(S2AQ8A)[T.4.0]      -0.5774      0.203     -2.840      0.005      -0.976      -0.179\n",
      "C(S2AQ8A)[T.5.0]      -0.2546      0.183     -1.388      0.165      -0.614       0.105\n",
      "C(S2AQ8A)[T.6.0]      -0.3339      0.213     -1.570      0.116      -0.751       0.083\n",
      "C(S2AQ8A)[T.7.0]       0.0494      0.213      0.232      0.816      -0.367       0.466\n",
      "C(S2AQ8A)[T.8.0]      -0.0234      0.200     -0.117      0.906      -0.415       0.368\n",
      "C(S2AQ8A)[T.9.0]       0.2663      0.198      1.348      0.178      -0.121       0.653\n",
      "C(S3BD5Q2E)[T.1.0]    -0.3674      0.175     -2.095      0.036      -0.711      -0.024\n",
      "C(S3BD5Q2E)[T.2.0]    -0.5406      0.169     -3.204      0.001      -0.871      -0.210\n",
      "C(S3BD5Q2E)[T.3.0]    -0.8675      0.153     -5.652      0.000      -1.168      -0.567\n",
      "C(S3BD5Q2E)[T.4.0]    -1.0016      0.185     -5.412      0.000      -1.364      -0.639\n",
      "C(S3BD5Q2E)[T.5.0]    -1.0020      0.200     -5.009      0.000      -1.394      -0.610\n",
      "C(S3BD5Q2E)[T.6.0]    -1.0325      0.289     -3.573      0.000      -1.599      -0.466\n",
      "C(S3BD5Q2E)[T.7.0]    -1.2536      0.197     -6.356      0.000      -1.640      -0.867\n",
      "C(S3BD5Q2E)[T.8.0]    -1.1819      0.191     -6.197      0.000      -1.556      -0.808\n",
      "C(S3BD5Q2E)[T.9.0]    -0.8674      0.142     -6.095      0.000      -1.146      -0.588\n",
      "======================================================================================\n"
     ]
    }
   ],
   "source": [
    "reg_log1 = smf.logit('S10Q1A50 ~ C(S2AQ8A)', data=data).fit()\n",
    "print(reg_log1.summary())\n",
    "\n",
    "reg_log2 = smf.logit('S10Q1A50 ~ C(S2AQ8A) + C(S3BD5Q2E)', data=data).fit()\n",
    "print(reg_log2.summary())"
   ]
  },
  {
   "cell_type": "markdown",
   "metadata": {},
   "source": [
    "## The second model descibes the data better (R-square is higher). \n",
    "\n",
    "#### There are statistically significant correlations: C(S2AQ8A)[T.3.0], C(S2AQ8A)[T.4.0], C(S3BD5Q2E)[T.1.0] and all corellations for cannabis consumption"
   ]
  },
  {
   "cell_type": "code",
   "execution_count": 5,
   "metadata": {},
   "outputs": [
    {
     "name": "stdout",
     "output_type": "stream",
     "text": [
      "Odds Ratios\n",
      "Intercept             0.234621\n",
      "C(S2AQ8A)[T.1.0]      0.764370\n",
      "C(S2AQ8A)[T.2.0]      0.816552\n",
      "C(S2AQ8A)[T.3.0]      0.553983\n",
      "C(S2AQ8A)[T.4.0]      0.561347\n",
      "C(S2AQ8A)[T.5.0]      0.775237\n",
      "C(S2AQ8A)[T.6.0]      0.716147\n",
      "C(S2AQ8A)[T.7.0]      1.050674\n",
      "C(S2AQ8A)[T.8.0]      0.976827\n",
      "C(S2AQ8A)[T.9.0]      1.305127\n",
      "C(S3BD5Q2E)[T.1.0]    0.692507\n",
      "C(S3BD5Q2E)[T.2.0]    0.582420\n",
      "C(S3BD5Q2E)[T.3.0]    0.419981\n",
      "C(S3BD5Q2E)[T.4.0]    0.367306\n",
      "C(S3BD5Q2E)[T.5.0]    0.367157\n",
      "C(S3BD5Q2E)[T.6.0]    0.356125\n",
      "C(S3BD5Q2E)[T.7.0]    0.285462\n",
      "C(S3BD5Q2E)[T.8.0]    0.306698\n",
      "C(S3BD5Q2E)[T.9.0]    0.420054\n",
      "dtype: float64\n"
     ]
    }
   ],
   "source": [
    "print('Odds Ratios')\n",
    "print(numpy.exp(reg_log2.params))"
   ]
  },
  {
   "cell_type": "code",
   "execution_count": 6,
   "metadata": {},
   "outputs": [
    {
     "name": "stdout",
     "output_type": "stream",
     "text": [
      "                    Lower CI  Upper CI        OR\n",
      "Intercept           0.174846  0.314831  0.234621\n",
      "C(S2AQ8A)[T.1.0]    0.494569  1.181355  0.764370\n",
      "C(S2AQ8A)[T.2.0]    0.571036  1.167628  0.816552\n",
      "C(S2AQ8A)[T.3.0]    0.376696  0.814708  0.553983\n",
      "C(S2AQ8A)[T.4.0]    0.376869  0.836125  0.561347\n",
      "C(S2AQ8A)[T.5.0]    0.541093  1.110700  0.775237\n",
      "C(S2AQ8A)[T.6.0]    0.472047  1.086472  0.716147\n",
      "C(S2AQ8A)[T.7.0]    0.692606  1.593857  1.050674\n",
      "C(S2AQ8A)[T.8.0]    0.660567  1.444502  0.976827\n",
      "C(S2AQ8A)[T.9.0]    0.886185  1.922123  1.305127\n",
      "C(S3BD5Q2E)[T.1.0]  0.491095  0.976524  0.692507\n",
      "C(S3BD5Q2E)[T.2.0]  0.418440  0.810661  0.582420\n",
      "C(S3BD5Q2E)[T.3.0]  0.310867  0.567392  0.419981\n",
      "C(S3BD5Q2E)[T.4.0]  0.255560  0.527914  0.367306\n",
      "C(S3BD5Q2E)[T.5.0]  0.248073  0.543405  0.367157\n",
      "C(S3BD5Q2E)[T.6.0]  0.202139  0.627416  0.356125\n",
      "C(S3BD5Q2E)[T.7.0]  0.193935  0.420187  0.285462\n",
      "C(S3BD5Q2E)[T.8.0]  0.211043  0.445710  0.306698\n",
      "C(S3BD5Q2E)[T.9.0]  0.317808  0.555195  0.420054\n"
     ]
    }
   ],
   "source": [
    "params = reg_log2.params\n",
    "conf = reg_log2.conf_int()\n",
    "conf['OR'] = params\n",
    "conf.columns = ['Lower CI', 'Upper CI', 'OR']\n",
    "print(numpy.exp(conf))\n"
   ]
  }
 ],
 "metadata": {
  "kernelspec": {
   "display_name": "Python 3",
   "language": "python",
   "name": "python3"
  },
  "language_info": {
   "codemirror_mode": {
    "name": "ipython",
    "version": 3
   },
   "file_extension": ".py",
   "mimetype": "text/x-python",
   "name": "python",
   "nbconvert_exporter": "python",
   "pygments_lexer": "ipython3",
   "version": "3.7.3"
  }
 },
 "nbformat": 4,
 "nbformat_minor": 2
}
